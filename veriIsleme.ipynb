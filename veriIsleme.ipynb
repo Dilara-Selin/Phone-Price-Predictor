{
 "cells": [
  {
   "cell_type": "code",
   "execution_count": 144,
   "id": "cd8f953a-fb4c-4c8d-9684-160ccca67c9f",
   "metadata": {},
   "outputs": [],
   "source": [
    "import pandas as pd"
   ]
  },
  {
   "cell_type": "code",
   "execution_count": 146,
   "id": "8c3fe1f7-566b-4750-ad5b-377527f06f6f",
   "metadata": {},
   "outputs": [],
   "source": [
    "df = pd.read_csv(\"product_details_extended.csv\")"
   ]
  },
  {
   "cell_type": "code",
   "execution_count": 148,
   "id": "98ca71f1-1ad0-403f-bc51-ec9a03be0623",
   "metadata": {},
   "outputs": [],
   "source": [
    "\n",
    "df['RAM Kapasitesi'] = df['RAM Kapasitesi'].str.replace(' MB RAM', '').str.replace(' GB', '')\n",
    "\n",
    "\n",
    "def convert_to_number(value):\n",
    "    try:\n",
    "        return float(value)\n",
    "    except ValueError:\n",
    "        return None\n",
    "\n",
    "\n",
    "df['RAM Kapasitesi'] = df['RAM Kapasitesi'].apply(convert_to_number)\n",
    "\n",
    "\n",
    "df['RAM Kapasitesi'] = df['RAM Kapasitesi'].fillna(df['RAM Kapasitesi'].mean())"
   ]
  },
  {
   "cell_type": "code",
   "execution_count": 150,
   "id": "e141a4b3-f901-404d-a1ee-4e0fba84d1a5",
   "metadata": {},
   "outputs": [],
   "source": [
    "df['RAM Kapasitesi'] = df['RAM Kapasitesi'].fillna(df['RAM Kapasitesi'].median())"
   ]
  },
  {
   "cell_type": "code",
   "execution_count": 152,
   "id": "8642123d-5ace-44ef-bb8d-d6b561470eba",
   "metadata": {},
   "outputs": [],
   "source": [
    "\n",
    "camera_resolution_map = {\n",
    "    '5 MP ve altı': 5,\n",
    "    '5 - 10 MP': 7.5,\n",
    "    '10 - 15 MP': 12.5,\n",
    "    '15 - 20 MP': 17.5,\n",
    "    '20 MP ve üstü': 20,\n",
    "    '50 MP': 50,\n",
    "    '64 MP': 64,\n",
    "    '108 MP': 108,\n",
    "    '200 MP': 200,\n",
    "}\n",
    "\n",
    "df['Kamera Çözünürlüğü'] = df['Kamera Çözünürlüğü'].map(camera_resolution_map)\n",
    "\n",
    "\n",
    "df['Kamera Çözünürlüğü'] = df['Kamera Çözünürlüğü'].fillna(df['Kamera Çözünürlüğü'].median())"
   ]
  },
  {
   "cell_type": "code",
   "execution_count": 154,
   "id": "0fa2a118-f0e6-4ffa-9cbe-7179517f478f",
   "metadata": {},
   "outputs": [
    {
     "name": "stdout",
     "output_type": "stream",
     "text": [
      "object\n"
     ]
    }
   ],
   "source": [
    "print(df['Batarya Kapasitesi Aralığı'].dtype)"
   ]
  },
  {
   "cell_type": "code",
   "execution_count": 156,
   "id": "2bf4df76-4b43-43e1-b921-7f1a59287c81",
   "metadata": {},
   "outputs": [],
   "source": [
    "def convert_battery_capacity(x):\n",
    "    if isinstance(x, str): \n",
    "        \n",
    "        x = x.replace('mAh', '').replace('+', '').strip()\n",
    "        \n",
    "        if '-' in x: \n",
    "            parts = x.split('-')\n",
    "            return (float(parts[0]) + float(parts[1])) / 2\n",
    "        else:\n",
    "            return float(x)  \n",
    "    else:\n",
    "        return x  \n",
    "\n",
    "df['Batarya Kapasitesi Aralığı'] = df['Batarya Kapasitesi Aralığı'].apply(convert_battery_capacity)"
   ]
  },
  {
   "cell_type": "code",
   "execution_count": 158,
   "id": "ef3d7baf-5dbb-4cd0-b63d-802fd8a715a9",
   "metadata": {},
   "outputs": [],
   "source": [
    "\n",
    "def extract_numeric(value):\n",
    "    if isinstance(value, str):\n",
    "        \n",
    "        value = value.replace(' W', '').replace(' mAh', '') \n",
    "    \n",
    "        if '-' in value:\n",
    "            start, end = value.split('-')\n",
    "            return (float(start) + float(end)) / 2\n",
    "        \n",
    "        else:\n",
    "            return float(value)  \n",
    "    return value\n",
    "\n",
    "\n",
    "df['Şarj Hızı'] = df['Şarj Hızı'].apply(extract_numeric)\n",
    "\n",
    "\n",
    "df['Şarj Hızı'] = df['Şarj Hızı'].fillna(df['Şarj Hızı'].median())"
   ]
  },
  {
   "cell_type": "code",
   "execution_count": 160,
   "id": "0cadd9d5-da25-4e8b-94f4-895ce75aae4d",
   "metadata": {},
   "outputs": [],
   "source": [
    "df.drop(columns=['Cep Telefonu Modeli'], inplace=True)"
   ]
  },
  {
   "cell_type": "code",
   "execution_count": 162,
   "id": "280aa622-ec79-4c21-a042-b519619685c6",
   "metadata": {},
   "outputs": [],
   "source": [
    "df['Ön Kamera Çözünürlüğü'] = df['Ön Kamera Çözünürlüğü'].fillna(df['Ön Kamera Çözünürlüğü'].mode()[0])"
   ]
  },
  {
   "cell_type": "code",
   "execution_count": 164,
   "id": "bd7abb60-03a1-4105-b402-35077026c794",
   "metadata": {},
   "outputs": [],
   "source": [
    "df['İşletim Sistemi'] = df['İşletim Sistemi'].fillna('Android')"
   ]
  },
  {
   "cell_type": "code",
   "execution_count": 166,
   "id": "5bc482a7-00ed-4235-9e5d-748d06884259",
   "metadata": {},
   "outputs": [],
   "source": [
    "df['Ekran Cinsi'] = df['Ekran Cinsi'].fillna(df['Ekran Cinsi'].mode()[0])"
   ]
  },
  {
   "cell_type": "code",
   "execution_count": 168,
   "id": "9c789db2-7201-4add-a422-6f885061aa3a",
   "metadata": {},
   "outputs": [],
   "source": [
    "df['price'] = df['price'].replace({'TL': '', ',': ''}, regex=True).astype(float)"
   ]
  },
  {
   "cell_type": "code",
   "execution_count": 170,
   "id": "a5e63938-5983-4455-a1df-e1522fb91f1b",
   "metadata": {},
   "outputs": [
    {
     "name": "stdout",
     "output_type": "stream",
     "text": [
      "name                           0\n",
      "price                          0\n",
      "link                           0\n",
      "RAM Kapasitesi                 0\n",
      "Kamera Çözünürlüğü             0\n",
      "Dahili Hafıza                  0\n",
      "Ön Kamera Çözünürlüğü          0\n",
      "İşletim Sistemi                0\n",
      "Ekran Cinsi                    0\n",
      "Batarya Kapasitesi Aralığı    95\n",
      "Şarj Hızı                      0\n",
      "dtype: int64\n"
     ]
    }
   ],
   "source": [
    "print(df.isnull().sum())"
   ]
  },
  {
   "cell_type": "code",
   "execution_count": 172,
   "id": "c880a772-0cc7-45c8-a1cf-0cc50a17b4eb",
   "metadata": {},
   "outputs": [],
   "source": [
    "df.drop(columns=['Batarya Kapasitesi Aralığı'], inplace=True)"
   ]
  },
  {
   "cell_type": "code",
   "execution_count": 174,
   "id": "e8e1462a-0274-4c40-a00c-3d345a3baef0",
   "metadata": {},
   "outputs": [
    {
     "data": {
      "text/plain": [
       "name                      object\n",
       "price                    float64\n",
       "link                      object\n",
       "RAM Kapasitesi           float64\n",
       "Kamera Çözünürlüğü       float64\n",
       "Dahili Hafıza             object\n",
       "Ön Kamera Çözünürlüğü     object\n",
       "İşletim Sistemi           object\n",
       "Ekran Cinsi               object\n",
       "Şarj Hızı                float64\n",
       "dtype: object"
      ]
     },
     "execution_count": 174,
     "metadata": {},
     "output_type": "execute_result"
    }
   ],
   "source": [
    "df.dtypes"
   ]
  },
  {
   "cell_type": "code",
   "execution_count": 178,
   "id": "5dc4ec32-3194-46eb-abee-87a43d5f7367",
   "metadata": {},
   "outputs": [],
   "source": [
    "df['Dahili Hafıza'] = df['Dahili Hafıza'].replace('Yok', 0)\n",
    "\n",
    "def convert_to_gb(value):\n",
    "    if isinstance(value, str):\n",
    "        if 'GB' in value:\n",
    "            return float(value.replace(' GB', ''))\n",
    "        elif 'TB' in value:\n",
    "            return float(value.replace(' TB', '')) * 1024  \n",
    "    return value  \n",
    "df['Dahili Hafıza'] = df['Dahili Hafıza'].apply(convert_to_gb)"
   ]
  },
  {
   "cell_type": "code",
   "execution_count": 180,
   "id": "0040e2d8-2e2b-46f5-b513-9a2297d43e69",
   "metadata": {},
   "outputs": [],
   "source": [
    "\n",
    "def convert_to_gb(value):\n",
    "    if isinstance(value, str):  \n",
    "        if 'GB' in value:\n",
    "            return float(value.replace(' GB', ''))\n",
    "        elif 'TB' in value:\n",
    "            return float(value.replace(' TB', '')) * 1024\n",
    "        else:\n",
    "            return np.nan \n",
    "    return value  \n",
    "\n",
    "df['Dahili Hafıza'] = df['Dahili Hafıza'].apply(convert_to_gb)"
   ]
  },
  {
   "cell_type": "code",
   "execution_count": 186,
   "id": "b9a928ca-8c37-4c5c-914f-9905fd03c9ab",
   "metadata": {},
   "outputs": [],
   "source": [
    "def convert_to_numeric(value):\n",
    "    if isinstance(value, str):\n",
    "        if value == 'Yok':\n",
    "            return 0 \n",
    "        return float(value.split()[0])  \n",
    "    return value  \n",
    "\n",
    "df['Ön Kamera Çözünürlüğü'] = df['Ön Kamera Çözünürlüğü'].apply(convert_to_numeric)"
   ]
  },
  {
   "cell_type": "code",
   "execution_count": 188,
   "id": "b53a0df2-d324-44d3-8682-65fb77cea3f2",
   "metadata": {
    "scrolled": true
   },
   "outputs": [
    {
     "data": {
      "text/plain": [
       "name                      object\n",
       "price                    float64\n",
       "link                      object\n",
       "RAM Kapasitesi           float64\n",
       "Kamera Çözünürlüğü       float64\n",
       "Dahili Hafıza            float64\n",
       "Ön Kamera Çözünürlüğü    float64\n",
       "İşletim Sistemi           object\n",
       "Ekran Cinsi               object\n",
       "Şarj Hızı                float64\n",
       "dtype: object"
      ]
     },
     "execution_count": 188,
     "metadata": {},
     "output_type": "execute_result"
    }
   ],
   "source": [
    "df.dtypes"
   ]
  },
  {
   "cell_type": "code",
   "execution_count": 190,
   "id": "306b0e9c-4702-49d4-8988-bace3f6e38bd",
   "metadata": {},
   "outputs": [],
   "source": [
    "df.drop(columns=['Ekran Cinsi'], inplace=True)"
   ]
  },
  {
   "cell_type": "code",
   "execution_count": 192,
   "id": "4e83aabc-4bd7-4172-8f89-ccbed35d5ce8",
   "metadata": {},
   "outputs": [],
   "source": [
    "from sklearn.preprocessing import LabelEncoder\n",
    "\n",
    "\n",
    "label_encoder = LabelEncoder() \n",
    "\n",
    "\n",
    "df['İşletim Sistemi'] = label_encoder.fit_transform(df['İşletim Sistemi'])\n"
   ]
  },
  {
   "cell_type": "code",
   "execution_count": 194,
   "id": "9089b5dd-d79a-438b-a3c0-c36d3c57d5bc",
   "metadata": {},
   "outputs": [
    {
     "data": {
      "text/plain": [
       "name                      object\n",
       "price                    float64\n",
       "link                      object\n",
       "RAM Kapasitesi           float64\n",
       "Kamera Çözünürlüğü       float64\n",
       "Dahili Hafıza            float64\n",
       "Ön Kamera Çözünürlüğü    float64\n",
       "İşletim Sistemi            int64\n",
       "Şarj Hızı                float64\n",
       "dtype: object"
      ]
     },
     "execution_count": 194,
     "metadata": {},
     "output_type": "execute_result"
    }
   ],
   "source": [
    "df.dtypes"
   ]
  },
  {
   "cell_type": "code",
   "execution_count": 196,
   "id": "1d8943a3-5f89-4329-80c3-1b53533a8c51",
   "metadata": {},
   "outputs": [],
   "source": [
    "df.to_csv('veri.csv', index=False)"
   ]
  },
  {
   "cell_type": "code",
   "execution_count": null,
   "id": "12148660-aec7-4608-945f-bbb041fde311",
   "metadata": {},
   "outputs": [],
   "source": []
  }
 ],
 "metadata": {
  "kernelspec": {
   "display_name": "Python 3 (ipykernel)",
   "language": "python",
   "name": "python3"
  },
  "language_info": {
   "codemirror_mode": {
    "name": "ipython",
    "version": 3
   },
   "file_extension": ".py",
   "mimetype": "text/x-python",
   "name": "python",
   "nbconvert_exporter": "python",
   "pygments_lexer": "ipython3",
   "version": "3.10.14"
  }
 },
 "nbformat": 4,
 "nbformat_minor": 5
}
